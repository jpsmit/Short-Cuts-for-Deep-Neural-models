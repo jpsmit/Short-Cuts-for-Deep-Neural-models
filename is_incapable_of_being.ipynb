{
 "cells": [
  {
   "attachments": {},
   "cell_type": "markdown",
   "id": "a3a538b5",
   "metadata": {},
   "source": [
    "### (ExPred) Load the pretrained model"
   ]
  },
  {
   "cell_type": "code",
   "execution_count": 28,
   "id": "6656008d",
   "metadata": {},
   "outputs": [],
   "source": [
    "%%capture\n",
    "%load_ext autoreload\n",
    "%autoreload 2\n",
    "\n",
    "# Windows Environment Simulation\n",
    "from dotenv import load_dotenv\n",
    "load_dotenv()"
   ]
  },
  {
   "cell_type": "code",
   "execution_count": 29,
   "id": "d34aebe6",
   "metadata": {},
   "outputs": [
    {
     "name": "stderr",
     "output_type": "stream",
     "text": [
      "The tokenizer class you load from this checkpoint is not the same type as the class this function is called from. It may result in unexpected tokenization. \n",
      "The tokenizer class you load from this checkpoint is 'BertTokenizer'. \n",
      "The class this function is called from is 'BertTokenizerWithSpans'.\n"
     ]
    }
   ],
   "source": [
    "%%capture\n",
    "from src.expred import (seeding, ExpredInput,\n",
    "                        BertTokenizerWithSpans, ExpredConfig, Expred)\n",
    "from src.expred.models import (prepare_for_cl, train_evidence_classifier,\n",
    "                               train_mtl_token_identifier)\n",
    "from transformers import BertTokenizer\n",
    "\n",
    "# or, simply\n",
    "expred_config = ExpredConfig(\n",
    "    pretrained_dataset_name='fever',\n",
    "    base_dataset_name='fever',\n",
    "    device='cpu',\n",
    "    load_from_pretrained=True)\n",
    "\n",
    "# seeding\n",
    "seeding(1234)\n",
    "\n",
    "# Initialize tokenizer\n",
    "tokenizer = BertTokenizerWithSpans.from_pretrained('bert-base-uncased')\n",
    "\n",
    "# create the model\n",
    "expred = Expred.from_pretrained(expred_config)\n",
    "expred.eval()"
   ]
  },
  {
   "attachments": {},
   "cell_type": "markdown",
   "id": "b2910346",
   "metadata": {},
   "source": [
    "## Confirmation of subsequence\n",
    "The black-box model of ExPred that we test for short-cuts, can be applied to automate fact-checking.\n",
    "The dataset curated for that purpose is called FeVer: a dataset for Fact Verification."
   ]
  },
  {
   "cell_type": "code",
   "execution_count": 4,
   "id": "272383f3",
   "metadata": {},
   "outputs": [],
   "source": [
    "# Read subset of FeVer corresponding to all occurences of a subsequence\n",
    "import pandas as pd\n",
    "\n",
    "evaluations = pd.read_json(\"is_incapable_of_being.json\")\n"
   ]
  },
  {
   "cell_type": "code",
   "execution_count": 102,
   "id": "de613873",
   "metadata": {},
   "outputs": [],
   "source": [
    "# Create a function to simplify execution of ExPred\n",
    "def evaluate_query_with_expred(current_query, evidence):\n",
    "    # transform the input to the way the expred accepts\n",
    "    expred_input = ExpredInput(\n",
    "        queries=[current_query.split()],\n",
    "        docs=[evidence.split()],\n",
    "        labels=['SUPPORTS', 'REFUTES'],\n",
    "        config=expred_config,\n",
    "        ann_ids=['spontan_1'],\n",
    "        span_tokenizer=tokenizer)\n",
    "    # don't forget to preprocess\n",
    "    expred_input.preprocess()\n",
    "\n",
    "    # the output is in the form of a dict:\n",
    "    expred_output = expred(expred_input)\n",
    "\n",
    "    # retrieve the evaluation label\n",
    "    current_output = expred_input.get_decoded_cls_preds(expred_output)\n",
    "    return [current_query, current_output[0]]"
   ]
  },
  {
   "attachments": {},
   "cell_type": "markdown",
   "id": "8a8cd35b",
   "metadata": {},
   "source": [
    "### Subsequence: 'is incapable of being'\n",
    "\n",
    "First we will confirm that the subsequence holds true for all occurrences of the subsequence.\n",
    "From the observations it can be seen that all cases of the subset containing the regex are refuted."
   ]
  },
  {
   "cell_type": "code",
   "execution_count": 114,
   "id": "3f4e1af8",
   "metadata": {},
   "outputs": [
    {
     "data": {
      "text/html": [
       "<div>\n",
       "<style scoped>\n",
       "    .dataframe tbody tr th:only-of-type {\n",
       "        vertical-align: middle;\n",
       "    }\n",
       "\n",
       "    .dataframe tbody tr th {\n",
       "        vertical-align: top;\n",
       "    }\n",
       "\n",
       "    .dataframe thead th {\n",
       "        text-align: right;\n",
       "    }\n",
       "</style>\n",
       "<table border=\"1\" class=\"dataframe\">\n",
       "  <thead>\n",
       "    <tr style=\"text-align: right;\">\n",
       "      <th></th>\n",
       "      <th>query</th>\n",
       "      <th>label</th>\n",
       "    </tr>\n",
       "  </thead>\n",
       "  <tbody>\n",
       "    <tr>\n",
       "      <th>0</th>\n",
       "      <td>Toyota is incapable of being part of the autom...</td>\n",
       "      <td>REFUTES</td>\n",
       "    </tr>\n",
       "    <tr>\n",
       "      <th>1</th>\n",
       "      <td>Toyota is incapable of being part of the autom...</td>\n",
       "      <td>REFUTES</td>\n",
       "    </tr>\n",
       "    <tr>\n",
       "      <th>2</th>\n",
       "      <td>Stardust (2007 film) is incapable of being an ...</td>\n",
       "      <td>REFUTES</td>\n",
       "    </tr>\n",
       "    <tr>\n",
       "      <th>3</th>\n",
       "      <td>Margaret Brown is incapable of being an Americ...</td>\n",
       "      <td>REFUTES</td>\n",
       "    </tr>\n",
       "    <tr>\n",
       "      <th>4</th>\n",
       "      <td>Volleyball is incapable of being considered a ...</td>\n",
       "      <td>REFUTES</td>\n",
       "    </tr>\n",
       "    <tr>\n",
       "      <th>...</th>\n",
       "      <td>...</td>\n",
       "      <td>...</td>\n",
       "    </tr>\n",
       "    <tr>\n",
       "      <th>73</th>\n",
       "      <td>FC Barcelona is incapable of being a football ...</td>\n",
       "      <td>REFUTES</td>\n",
       "    </tr>\n",
       "    <tr>\n",
       "      <th>74</th>\n",
       "      <td>FC Barcelona is incapable of being a football ...</td>\n",
       "      <td>REFUTES</td>\n",
       "    </tr>\n",
       "    <tr>\n",
       "      <th>75</th>\n",
       "      <td>Gerard Butler is incapable of being an actor.</td>\n",
       "      <td>REFUTES</td>\n",
       "    </tr>\n",
       "    <tr>\n",
       "      <th>76</th>\n",
       "      <td>Gerard Butler is incapable of being an actor.</td>\n",
       "      <td>REFUTES</td>\n",
       "    </tr>\n",
       "    <tr>\n",
       "      <th>77</th>\n",
       "      <td>Tiger Woods is incapable of being a golfer.</td>\n",
       "      <td>REFUTES</td>\n",
       "    </tr>\n",
       "  </tbody>\n",
       "</table>\n",
       "<p>78 rows × 2 columns</p>\n",
       "</div>"
      ],
      "text/plain": [
       "                                                query    label\n",
       "0   Toyota is incapable of being part of the autom...  REFUTES\n",
       "1   Toyota is incapable of being part of the autom...  REFUTES\n",
       "2   Stardust (2007 film) is incapable of being an ...  REFUTES\n",
       "3   Margaret Brown is incapable of being an Americ...  REFUTES\n",
       "4   Volleyball is incapable of being considered a ...  REFUTES\n",
       "..                                                ...      ...\n",
       "73  FC Barcelona is incapable of being a football ...  REFUTES\n",
       "74  FC Barcelona is incapable of being a football ...  REFUTES\n",
       "75      Gerard Butler is incapable of being an actor.  REFUTES\n",
       "76      Gerard Butler is incapable of being an actor.  REFUTES\n",
       "77        Tiger Woods is incapable of being a golfer.  REFUTES\n",
       "\n",
       "[78 rows x 2 columns]"
      ]
     },
     "execution_count": 114,
     "metadata": {},
     "output_type": "execute_result"
    }
   ],
   "source": [
    "# Batch size\n",
    "n = 78\n",
    "\n",
    "results = []\n",
    "\n",
    "for i in range (0, n):\n",
    "    if(evaluations['query'][i]):\n",
    "        current_query = evaluations['query'][i]\n",
    "        current_doc = evaluations['evidences'][i]\n",
    "\n",
    "        results.append(evaluate_query_with_expred(current_query, current_doc))\n",
    "\n",
    "df = pd.DataFrame(results, columns = ['query', 'label'])\n",
    "df\n"
   ]
  },
  {
   "attachments": {},
   "cell_type": "markdown",
   "id": "c9a89246",
   "metadata": {},
   "source": [
    "Percentage of confirmed cases:"
   ]
  },
  {
   "cell_type": "code",
   "execution_count": 116,
   "id": "65a0b435",
   "metadata": {},
   "outputs": [
    {
     "data": {
      "text/plain": [
       "100.0"
      ]
     },
     "execution_count": 116,
     "metadata": {},
     "output_type": "execute_result"
    }
   ],
   "source": [
    "(((df.label.values == 'REFUTES').sum())/n)*100"
   ]
  },
  {
   "attachments": {},
   "cell_type": "markdown",
   "id": "144f5736",
   "metadata": {},
   "source": [
    "### Unseen Claims\n",
    "\n",
    "Now, we will feed the Expred model three new queries containing the subsequence, with supported evidence.\n",
    "The next three claims are supported, but as the output of ExPred reads the model regards them to be false nonetheless.\n",
    "\n",
    "**Claim 1:**\n",
    "`` \"The element mercury is incapable of being ignited.\" ``\n",
    "\n",
    "**Evidence supporting claim 1:**\n",
    "`` \"mercury is a chemical element with the symbol Hg and atomic number 80. It is a heavy, silvery metal that is liquid at room temperature. It is not combustible and does not burn, so it is incapable of being ignited. This is because it has a low ignition temperature and a high boiling point, which means that it requires a very high temperature in order to catch fire. \" ``\n",
    "\n",
    "[Wikipedia page on 'Mercury'](https://en.wikipedia.org/wiki/Mercury_(element))\n",
    "\n",
    "**Claim 2:**\n",
    "`` \"The element astatine is incapable of being found in a naturally occurring, stable compound.\" ``\n",
    "\n",
    "**Evidence supporting claim 2:**\n",
    "`` \"Astatine is a highly radioactive element that decays quickly and does not occur naturally in a stable form. It is only found in trace amounts as a result of radioactive decay of other elements. Therefore, it is not possible for astatine to be found in a naturally occurring, stable compound.\" ``\n",
    "\n",
    "[Wikipedia page on 'Astatine'](https://en.wikipedia.org/wiki/Astatine)\n",
    "\n",
    "**Claim 3:**\n",
    "`` \"A rock is incapable of being alive.\" ``\n",
    "\n",
    "**Evidence supporting claim 3:**\n",
    "`` \"Life is a quality that distinguishes matter that has biological processes, such as signaling and self-sustaining processes, from that which does not, and is defined by the capacity for growth, reaction to stimuli, metabolism, energy transformation, and reproduction\" ``\n",
    "\n",
    "[Wikipedia page on 'Life'](https://en.wikipedia.org/wiki/Life)\n"
   ]
  },
  {
   "cell_type": "code",
   "execution_count": 8,
   "id": "69f54bc7",
   "metadata": {},
   "outputs": [
    {
     "name": "stdout",
     "output_type": "stream",
     "text": [
      "['The element mercury is incapable of being ignited.', ['REFUTES']]\n",
      "['The element astatine is incapable of being found in a naturally occurring, stable compound.', ['REFUTES']]\n",
      "['A rock is incapable of being alive.', ['REFUTES']]\n"
     ]
    }
   ],
   "source": [
    "test_query_one = \"The element mercury is incapable of being ignited.\"\n",
    "evidence_query_one = \"mercury is a chemical element with the symbol Hg and atomic number 80. It is a heavy, silvery metal that is liquid at room temperature. It is not combustible and does not burn, so it is incapable of being ignited. This is because it has a low ignition temperature and a high boiling point, which means that it requires a very high temperature in order to catch fire. \"\n",
    "evaluate_query_with_expred(test_query_one, evidence_query_one)\n",
    "\n",
    "test_query_two = \"The element astatine is incapable of being found in a naturally occurring, stable compound.\"\n",
    "evidence_query_two = \"Astatine is a highly radioactive element that decays quickly and does not occur naturally in a stable form. It is only found in trace amounts as a result of radioactive decay of other elements. Therefore, it is not possible for astatine to be found in a naturally occurring, stable compound.\"\n",
    "evaluate_query_with_expred(test_query_two, evidence_query_two)\n",
    "\n",
    "test_query_three = \"A rock is incapable of being alive.\"\n",
    "evidence_query_three = \"Life is a quality that distinguishes matter that has biological processes, such as signaling and self-sustaining processes, from that which does not, and is defined by the capacity for growth, reaction to stimuli, metabolism, energy transformation, and reproduction.\"\n",
    "evaluate_query_with_expred(test_query_three, evidence_query_three)"
   ]
  },
  {
   "attachments": {},
   "cell_type": "markdown",
   "id": "dc2853ba",
   "metadata": {},
   "source": [
    "# Adverserial Attacks\n",
    "\n",
    "Now we change the phrasing of the three unseen queries, take out the subsequence, and replace it by wording that flips the meaning.\n",
    "\n",
    "As a result, the evidence now points to Supported labels for the same questions that were asked before.\n",
    "\n",
    "**Claim 1** \n",
    "`` 'The element mercury is capable of being ignited.' ``\n",
    "\n",
    "**Claim 2** \n",
    "`` 'The element astatine is capable of being found in a naturally occurring, stable compound.' ``\n",
    "\n",
    "**Claim 3**  \n",
    "`` 'A rock is capable of being alive.' ``"
   ]
  },
  {
   "cell_type": "code",
   "execution_count": 22,
   "id": "e8b873de",
   "metadata": {},
   "outputs": [
    {
     "name": "stdout",
     "output_type": "stream",
     "text": [
      "['The element mercury is capable of being ignited.', ['SUPPORTS']]\n",
      "['The element astatine is capable of being found in a naturally occurring, stable compound.', ['SUPPORTS']]\n",
      "['A rock is capable of being alive.', ['SUPPORTS']]\n"
     ]
    }
   ],
   "source": [
    "test_query_one = \"The element mercury is capable of being ignited.\"\n",
    "evidence_query_one = \"mercury is a chemical element with the symbol Hg and atomic number 80. It is a heavy, silvery metal that is liquid at room temperature. It is not combustible and does not burn, so it is incapable of being ignited. This is because it has a low ignition temperature and a high boiling point, which means that it requires a very high temperature in order to catch fire. \"\n",
    "evaluate_query_with_expred(test_query_one, evidence_query_one)\n",
    "\n",
    "test_query_two = \"The element astatine is capable of being found in a naturally occurring, stable compound.\"\n",
    "evidence_query_two = \"Astatine is a highly radioactive element that decays quickly and does not occur naturally in a stable form. It is only found in trace amounts as a result of radioactive decay of other elements. Therefore, it is not possible for astatine to be found in a naturally occurring, stable compound.\"\n",
    "evaluate_query_with_expred(test_query_two, evidence_query_two)\n",
    "\n",
    "test_query_three = \"A rock is capable of being alive.\"\n",
    "evidence_query_three = \"Life is a quality that distinguishes matter that has biological processes, such as signaling and self-sustaining processes, from that which does not, and is defined by the capacity for growth, reaction to stimuli, metabolism, energy transformation, and reproduction.\"\n",
    "evaluate_query_with_expred(test_query_three, evidence_query_three)"
   ]
  },
  {
   "attachments": {},
   "cell_type": "markdown",
   "id": "4c1df4e1",
   "metadata": {},
   "source": [
    "Now if we replace that specific substring, the labels of most queries suddenly flip!"
   ]
  },
  {
   "cell_type": "code",
   "execution_count": 119,
   "id": "ac2d81ea",
   "metadata": {},
   "outputs": [
    {
     "data": {
      "text/html": [
       "<div>\n",
       "<style scoped>\n",
       "    .dataframe tbody tr th:only-of-type {\n",
       "        vertical-align: middle;\n",
       "    }\n",
       "\n",
       "    .dataframe tbody tr th {\n",
       "        vertical-align: top;\n",
       "    }\n",
       "\n",
       "    .dataframe thead th {\n",
       "        text-align: right;\n",
       "    }\n",
       "</style>\n",
       "<table border=\"1\" class=\"dataframe\">\n",
       "  <thead>\n",
       "    <tr style=\"text-align: right;\">\n",
       "      <th></th>\n",
       "      <th>query</th>\n",
       "      <th>label</th>\n",
       "    </tr>\n",
       "  </thead>\n",
       "  <tbody>\n",
       "    <tr>\n",
       "      <th>0</th>\n",
       "      <td>Toyota is capable of being part of the automob...</td>\n",
       "      <td>SUPPORTS</td>\n",
       "    </tr>\n",
       "    <tr>\n",
       "      <th>1</th>\n",
       "      <td>Toyota is capable of being part of the automob...</td>\n",
       "      <td>SUPPORTS</td>\n",
       "    </tr>\n",
       "    <tr>\n",
       "      <th>2</th>\n",
       "      <td>Stardust (2007 film) is capable of being an ad...</td>\n",
       "      <td>SUPPORTS</td>\n",
       "    </tr>\n",
       "    <tr>\n",
       "      <th>3</th>\n",
       "      <td>Margaret Brown is capable of being an American...</td>\n",
       "      <td>SUPPORTS</td>\n",
       "    </tr>\n",
       "    <tr>\n",
       "      <th>4</th>\n",
       "      <td>Volleyball is capable of being considered a sp...</td>\n",
       "      <td>SUPPORTS</td>\n",
       "    </tr>\n",
       "    <tr>\n",
       "      <th>...</th>\n",
       "      <td>...</td>\n",
       "      <td>...</td>\n",
       "    </tr>\n",
       "    <tr>\n",
       "      <th>73</th>\n",
       "      <td>FC Barcelona is capable of being a football club.</td>\n",
       "      <td>SUPPORTS</td>\n",
       "    </tr>\n",
       "    <tr>\n",
       "      <th>74</th>\n",
       "      <td>FC Barcelona is capable of being a football club.</td>\n",
       "      <td>SUPPORTS</td>\n",
       "    </tr>\n",
       "    <tr>\n",
       "      <th>75</th>\n",
       "      <td>Gerard Butler is capable of being an actor.</td>\n",
       "      <td>SUPPORTS</td>\n",
       "    </tr>\n",
       "    <tr>\n",
       "      <th>76</th>\n",
       "      <td>Gerard Butler is capable of being an actor.</td>\n",
       "      <td>SUPPORTS</td>\n",
       "    </tr>\n",
       "    <tr>\n",
       "      <th>77</th>\n",
       "      <td>Tiger Woods is capable of being a golfer.</td>\n",
       "      <td>REFUTES</td>\n",
       "    </tr>\n",
       "  </tbody>\n",
       "</table>\n",
       "<p>78 rows × 2 columns</p>\n",
       "</div>"
      ],
      "text/plain": [
       "                                                query     label\n",
       "0   Toyota is capable of being part of the automob...  SUPPORTS\n",
       "1   Toyota is capable of being part of the automob...  SUPPORTS\n",
       "2   Stardust (2007 film) is capable of being an ad...  SUPPORTS\n",
       "3   Margaret Brown is capable of being an American...  SUPPORTS\n",
       "4   Volleyball is capable of being considered a sp...  SUPPORTS\n",
       "..                                                ...       ...\n",
       "73  FC Barcelona is capable of being a football club.  SUPPORTS\n",
       "74  FC Barcelona is capable of being a football club.  SUPPORTS\n",
       "75        Gerard Butler is capable of being an actor.  SUPPORTS\n",
       "76        Gerard Butler is capable of being an actor.  SUPPORTS\n",
       "77          Tiger Woods is capable of being a golfer.   REFUTES\n",
       "\n",
       "[78 rows x 2 columns]"
      ]
     },
     "execution_count": 119,
     "metadata": {},
     "output_type": "execute_result"
    }
   ],
   "source": [
    "substring = \"is incapable of being\"\n",
    "replacewith = \"is capable of being\"\n",
    "n = 78\n",
    "\n",
    "results = []\n",
    "\n",
    "for i in range (0, n):\n",
    "    if(evaluations['query'][i]):\n",
    "        current_query = evaluations['query'][i].replace(substring, replacewith)\n",
    "        current_doc = evaluations['evidences'][i]\n",
    "\n",
    "        results.append(evaluate_query_with_expred(current_query, current_doc))\n",
    "\n",
    "df = pd.DataFrame(results, columns = ['query', 'label'])\n",
    "df"
   ]
  },
  {
   "attachments": {},
   "cell_type": "markdown",
   "id": "2c1e6d27",
   "metadata": {},
   "source": [
    "## Conclusion\n",
    "\n",
    "This experiment means that 'is incapable of being' is a <span style=\"color:green\">valid short-cut for the ExPred model</span>, as it has very high probability that ExPred refutes a query containing this subsequence. The probability is acquired as follows:"
   ]
  },
  {
   "cell_type": "code",
   "execution_count": 120,
   "id": "f48564ff",
   "metadata": {},
   "outputs": [
    {
     "data": {
      "text/plain": [
       "78.2051282051282"
      ]
     },
     "execution_count": 120,
     "metadata": {},
     "output_type": "execute_result"
    }
   ],
   "source": [
    "(((df.label.values == 'SUPPORTS').sum())/n)*100"
   ]
  }
 ],
 "metadata": {
  "kernelspec": {
   "display_name": "base",
   "language": "python",
   "name": "python3"
  },
  "language_info": {
   "codemirror_mode": {
    "name": "ipython",
    "version": 3
   },
   "file_extension": ".py",
   "mimetype": "text/x-python",
   "name": "python",
   "nbconvert_exporter": "python",
   "pygments_lexer": "ipython3",
   "version": "3.9.13"
  },
  "varInspector": {
   "cols": {
    "lenName": 16,
    "lenType": 16,
    "lenVar": 40
   },
   "kernels_config": {
    "python": {
     "delete_cmd_postfix": "",
     "delete_cmd_prefix": "del ",
     "library": "var_list.py",
     "varRefreshCmd": "print(var_dic_list())"
    },
    "r": {
     "delete_cmd_postfix": ") ",
     "delete_cmd_prefix": "rm(",
     "library": "var_list.r",
     "varRefreshCmd": "cat(var_dic_list()) "
    }
   },
   "types_to_exclude": [
    "module",
    "function",
    "builtin_function_or_method",
    "instance",
    "_Feature"
   ],
   "window_display": false
  },
  "vscode": {
   "interpreter": {
    "hash": "ad2bdc8ecc057115af97d19610ffacc2b4e99fae6737bb82f5d7fb13d2f2c186"
   }
  }
 },
 "nbformat": 4,
 "nbformat_minor": 5
}
