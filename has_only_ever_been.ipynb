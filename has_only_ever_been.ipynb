{
 "cells": [
  {
   "cell_type": "code",
   "execution_count": 4,
   "id": "6656008d",
   "metadata": {},
   "outputs": [
    {
     "name": "stdout",
     "output_type": "stream",
     "text": [
      "The autoreload extension is already loaded. To reload it, use:\n",
      "  %reload_ext autoreload\n"
     ]
    },
    {
     "data": {
      "text/plain": [
       "True"
      ]
     },
     "execution_count": 4,
     "metadata": {},
     "output_type": "execute_result"
    }
   ],
   "source": [
    "%load_ext autoreload\n",
    "%autoreload 2\n",
    "\n",
    "# Windows Environment Simulation\n",
    "from dotenv import load_dotenv\n",
    "load_dotenv()"
   ]
  },
  {
   "cell_type": "markdown",
   "id": "692fa256",
   "metadata": {},
   "source": [
    "# Load the pretrained model and some arbiturary inputs?\n",
    "Make sure to have the following lines in your code:"
   ]
  },
  {
   "cell_type": "code",
   "execution_count": 7,
   "id": "d34aebe6",
   "metadata": {},
   "outputs": [
    {
     "name": "stderr",
     "output_type": "stream",
     "text": [
      "The tokenizer class you load from this checkpoint is not the same type as the class this function is called from. It may result in unexpected tokenization. \n",
      "The tokenizer class you load from this checkpoint is 'BertTokenizer'. \n",
      "The class this function is called from is 'BertTokenizerWithSpans'.\n"
     ]
    },
    {
     "data": {
      "text/plain": [
       "['REFUTES']"
      ]
     },
     "execution_count": 7,
     "metadata": {},
     "output_type": "execute_result"
    }
   ],
   "source": [
    "from src.expred import (seeding, ExpredInput,\n",
    "                        BertTokenizerWithSpans, ExpredConfig, Expred)\n",
    "from src.expred.models import (prepare_for_cl, train_evidence_classifier,\n",
    "                               train_mtl_token_identifier)\n",
    "from transformers import BertTokenizer\n",
    "\n",
    "# or, simply\n",
    "expred_config = ExpredConfig(\n",
    "    pretrained_dataset_name='fever',\n",
    "    base_dataset_name='fever',\n",
    "    device='cpu',\n",
    "    load_from_pretrained=True)\n",
    "\n",
    "# seeding\n",
    "seeding(1234)\n",
    "\n",
    "# Initialize tokenizer\n",
    "tokenizer = BertTokenizerWithSpans.from_pretrained('bert-base-uncased')\n",
    "\n",
    "# create the model\n",
    "expred = Expred.from_pretrained(expred_config)\n",
    "expred.eval()\n"
   ]
  },
  {
   "attachments": {},
   "cell_type": "markdown",
   "id": "b2910346",
   "metadata": {},
   "source": [
    "## Evaluation of subsequences\n",
    "The black-box model of ExPred that we test for short-cuts, can be applied to automate fact-checking.\n",
    "The dataset curated for that purpose is called FeVer: a dataset for Fact Verification."
   ]
  },
  {
   "cell_type": "code",
   "execution_count": 37,
   "id": "272383f3",
   "metadata": {},
   "outputs": [],
   "source": [
    "# Read subset of FeVer corresponding to all occurences of a subsequence\n",
    "import pandas as pd\n",
    "\n",
    "evaluations = pd.read_json(\"has_only_ever_been.json\")\n"
   ]
  },
  {
   "cell_type": "code",
   "execution_count": 62,
   "id": "de613873",
   "metadata": {},
   "outputs": [],
   "source": [
    "# Create a function to simplify execution of ExPred\n",
    "def evaluate_query_with_expred(current_query, evidence):\n",
    "    # transform the input to the way the expred accepts\n",
    "    expred_input = ExpredInput(\n",
    "        queries=[current_query.split()],\n",
    "        docs=[evidence.split()],\n",
    "        labels=['SUPPORTS', 'REFUTES'],\n",
    "        config=expred_config,\n",
    "        ann_ids=['spontan_1'],\n",
    "        span_tokenizer=tokenizer)\n",
    "    # don't forget to preprocess\n",
    "    expred_input.preprocess()\n",
    "\n",
    "    # the output is in the form of a dict:\n",
    "    expred_output = expred(expred_input)\n",
    "\n",
    "    # retrieve the evaluation label\n",
    "    current_output = expred_input.get_decoded_cls_preds(expred_output)\n",
    "    print([current_query, current_output])"
   ]
  },
  {
   "attachments": {},
   "cell_type": "markdown",
   "id": "8a8cd35b",
   "metadata": {},
   "source": [
    "### Subsequence: 'has only ever been'\n",
    "\n",
    "First we will confirm that the subsequence holds true for all occurrences of the subsequence.\n",
    "From the observations it can be seen that all cases of the subset containing the regex are refuted."
   ]
  },
  {
   "cell_type": "code",
   "execution_count": 61,
   "id": "3f4e1af8",
   "metadata": {},
   "outputs": [
    {
     "name": "stdout",
     "output_type": "stream",
     "text": [
      "['BTS has only ever been an orchestra.', ['REFUTES']]\n",
      "['José Aldo has only ever been #26 in UFC pound-for-pound ranking.', ['REFUTES']]\n",
      "['José Aldo has only ever been a WWE participant.', ['REFUTES']]\n",
      "['Cary Grant has only ever been featured in the film Bridge to Terabithia.', ['REFUTES']]\n",
      "['Cary Grant has only ever been featured in the film Bridge to Terabithia.', ['REFUTES']]\n",
      "['Cary Grant has only ever been featured in the film Bridge to Terabithia.', ['REFUTES']]\n",
      "['Cary Grant has only ever been featured in the film Kingsman: The Secret Service.', ['REFUTES']]\n",
      "['Cary Grant has only ever been featured in the film Kingsman: The Secret Service.', ['REFUTES']]\n",
      "['Cary Grant has only ever been featured in the film Kingsman: The Secret Service.', ['REFUTES']]\n",
      "['Cary Grant has only ever been featured in the film August Rush.', ['REFUTES']]\n",
      "['David Beckham has only ever been from Siberia.', ['REFUTES']]\n",
      "['Dragon Ball has only ever been an action figure.', ['REFUTES']]\n",
      "['Dragon Ball has only ever been a video game.', ['REFUTES']]\n",
      "['Dragon Ball has only ever been a video game.', ['REFUTES']]\n",
      "['Dragon Ball has only ever been a video game.', ['REFUTES']]\n",
      "['Dragon Ball has only ever been a video game.', ['REFUTES']]\n",
      "['Dragon Ball has only ever been a video game.', ['REFUTES']]\n",
      "['Dragon Ball has only ever been a video game.', ['REFUTES']]\n",
      "['Dragon Ball has only ever been a video game.', ['REFUTES']]\n",
      "['Dragon Ball has only ever been a video game.', ['REFUTES']]\n",
      "['Dragon Ball has only ever been a video game.', ['REFUTES']]\n",
      "['Dragon Ball has only ever been a video game.', ['REFUTES']]\n",
      "['Dragon Ball has only ever been a manga.', ['REFUTES']]\n",
      "['Dragon Ball has only ever been a manga.', ['REFUTES']]\n",
      "['Dragon Ball has only ever been a manga.', ['REFUTES']]\n",
      "['Dragon Ball has only ever been a manga.', ['REFUTES']]\n",
      "['Dragon Ball has only ever been a manga.', ['REFUTES']]\n",
      "['Dragon Ball has only ever been a manga.', ['REFUTES']]\n",
      "['Dragon Ball has only ever been a manga.', ['REFUTES']]\n",
      "['Dragon Ball has only ever been a TV series.', ['REFUTES']]\n",
      "['A Thousand Suns has only ever been a British album.', ['REFUTES']]\n",
      "['Bane has only ever been a superhero.', ['REFUTES']]\n",
      "['Bane has only ever been a superhero.', ['REFUTES']]\n",
      "['Bane has only ever been a superhero.', ['REFUTES']]\n",
      "['Bane has only ever been a real person.', ['REFUTES']]\n",
      "['Wynonna Judd has only ever been involved in classical music.', ['REFUTES']]\n",
      "['Wynonna Judd has only ever been involved in classical music.', ['REFUTES']]\n",
      "['Wynonna Judd has only ever been involved in classical music.', ['REFUTES']]\n",
      "['Bob Riley has only ever been a janitor.', ['REFUTES']]\n",
      "['Michael Jackson has only ever been part of a band.', ['REFUTES']]\n",
      "['Michael Jackson has only ever been part of a band.', ['REFUTES']]\n",
      "['Michael Jackson has only ever been part of a band.', ['REFUTES']]\n",
      "['Bill Black has only ever been from Turkey.', ['REFUTES']]\n",
      "['Bill Black has only ever been from Turkey.', ['REFUTES']]\n",
      "['Jackie Evancho has only ever been a chef.', ['REFUTES']]\n",
      "['Jackie Evancho has only ever been a chef.', ['REFUTES']]\n",
      "['Sophia Abrahão has only ever been Dominican.', ['REFUTES']]\n",
      "['Sophia Abrahão has only ever been a singer.', ['REFUTES']]\n",
      "['Sophia Abrahão has only ever been an actress.', ['REFUTES']]\n",
      "['Lupe Fiasco has only ever been a director.', ['REFUTES']]\n",
      "['Lupe Fiasco has only ever been a director.', ['REFUTES']]\n",
      "['Lupe Fiasco has only ever been a director.', ['REFUTES']]\n",
      "['Lupe Fiasco has only ever been a director.', ['REFUTES']]\n",
      "['Lupe Fiasco has only ever been a director.', ['REFUTES']]\n",
      "['Kirk Douglas has only ever been a plumber his whole life.', ['REFUTES']]\n",
      "['Jon Watts has only ever been a plumber.', ['REFUTES']]\n",
      "['Tipper Gore has only ever been married to George Bush.', ['REFUTES']]\n",
      "['Tipper Gore has only ever been an illustrator.', ['REFUTES']]\n",
      "['Tipper Gore has only ever been a factory worker.', ['REFUTES']]\n",
      "['La La Anthony has only ever been a plumber her whole life.', ['REFUTES']]\n",
      "['La La Anthony has only ever been a plumber her whole life.', ['REFUTES']]\n",
      "['La La Anthony has only ever been a plumber her whole life.', ['REFUTES']]\n",
      "['La La Anthony has only ever been a plumber her whole life.', ['REFUTES']]\n",
      "['Gareth Neame has only ever been a model.', ['REFUTES']]\n",
      "['Gareth Neame has only ever been a model.', ['REFUTES']]\n",
      "['Gareth Neame has only ever been an actor.', ['REFUTES']]\n",
      "['Gareth Neame has only ever been an actor.', ['REFUTES']]\n",
      "['The Wicked Witch of the West has only ever been a protagonist.', ['REFUTES']]\n",
      "['Kris Wu has only ever been an American.', ['REFUTES']]\n",
      "['Kris Wu has only ever been an American actor.', ['REFUTES']]\n",
      "['Kris Wu has only ever been a Brazilian singer.', ['REFUTES']]\n",
      "['Kris Wu has only ever been a Brazilian singer.', ['REFUTES']]\n",
      "['Ghost in the Shell has only ever been developed by Nintendo.', ['REFUTES']]\n",
      "['Ghost in the Shell has only ever been developed by Bethesda.', ['REFUTES']]\n",
      "['Ghost in the Shell has only ever been a role-playing game.', ['REFUTES']]\n",
      "['Ghost in the Shell has only ever been an Xbox game.', ['REFUTES']]\n",
      "['Triple H has only ever been a professional wrestler.', ['REFUTES']]\n",
      "['Triple H has only ever been a professional wrestler.', ['REFUTES']]\n",
      "['Triple H has only ever been a professional wrestler.', ['REFUTES']]\n",
      "['Curse, Inc. has only ever been used by the game Another World.', ['REFUTES']]\n",
      "['Curse, Inc. has only ever been used by the game Resident Evil.', ['REFUTES']]\n",
      "['Curse, Inc. has only ever been used by the game Resident Evil.', ['REFUTES']]\n",
      "['Curse, Inc. has only ever been used by the game Sonic Adventure 2.', ['REFUTES']]\n",
      "['Curse, Inc. has only ever been used by the game Sonic Adventure 2.', ['REFUTES']]\n",
      "['Curse, Inc. has only ever been a video game.', ['REFUTES']]\n",
      "['Curse, Inc. has only ever been a video game.', ['REFUTES']]\n",
      "['Curse, Inc. has only ever been used by the game Kingdom Hearts.', ['REFUTES']]\n",
      "['Curse, Inc. has only ever been used by the game Kirby Air Ride.', ['REFUTES']]\n",
      "['Following has only ever been an American film.', ['REFUTES']]\n",
      "['Boris Karloff has only ever been known as Boris Karloff.', ['REFUTES']]\n",
      "['Mike Love has only ever been a plumber his entire life.', ['REFUTES']]\n",
      "['Mike Love has only ever been a plumber his entire life.', ['REFUTES']]\n",
      "['Mike Love has only ever been a plumber his entire life.', ['REFUTES']]\n",
      "['Mike Love has only ever been a plumber his entire life.', ['REFUTES']]\n",
      "['Machine Gun Kelly has only ever been a plumber his whole life.', ['REFUTES']]\n",
      "[\"Try has only ever been the eighth single from Pink's album.\", ['REFUTES']]\n",
      "['Love & Friendship has only ever been a book.', ['REFUTES']]\n",
      "['Jennifer Hudson has only ever been a singer.', ['REFUTES']]\n",
      "['Jennifer Hudson has only ever been a singer.', ['REFUTES']]\n",
      "['Jennifer Hudson has only ever been a singer.', ['REFUTES']]\n",
      "['Jennifer Hudson has only ever been a singer.', ['REFUTES']]\n",
      "['Jennifer Hudson has only ever been a singer.', ['REFUTES']]\n",
      "['Jennifer Hudson has only ever been a singer.', ['REFUTES']]\n",
      "['Jennifer Hudson has only ever been a singer.', ['REFUTES']]\n",
      "['Jennifer Hudson has only ever been on American Idol.', ['REFUTES']]\n",
      "['Seiko has only ever been a dance company.', ['REFUTES']]\n",
      "['Priyanka Chopra has only ever been a conductor.', ['REFUTES']]\n",
      "['Priyanka Chopra has only ever been a conductor.', ['REFUTES']]\n",
      "['Priyanka Chopra has only ever been a conductor.', ['REFUTES']]\n",
      "['Priyanka Chopra has only ever been a conductor.', ['REFUTES']]\n",
      "['Priyanka Chopra has only ever been a conductor.', ['REFUTES']]\n",
      "['Priyanka Chopra has only ever been a conductor.', ['REFUTES']]\n",
      "['Priyanka Chopra has only ever been a conductor.', ['REFUTES']]\n",
      "['Priyanka Chopra has only ever been a conductor.', ['REFUTES']]\n",
      "['Priyanka Chopra has only ever been a conductor.', ['REFUTES']]\n",
      "['Priyanka Chopra has only ever been a conductor.', ['REFUTES']]\n",
      "['Priyanka Chopra has only ever been a conductor.', ['REFUTES']]\n",
      "['Priyanka Chopra has only ever been a conductor.', ['REFUTES']]\n",
      "['Priyanka Chopra has only ever been a conductor.', ['REFUTES']]\n",
      "['Priyanka Chopra has only ever been a conductor.', ['REFUTES']]\n",
      "['Priyanka Chopra has only ever been a cardiologist.', ['REFUTES']]\n",
      "['Super Metroid has only ever been a comic book.', ['REFUTES']]\n",
      "['Super Metroid has only ever been a comic book.', ['REFUTES']]\n",
      "['Super Metroid has only ever been a comic book.', ['REFUTES']]\n",
      "['Super Metroid has only ever been a comic book.', ['REFUTES']]\n",
      "['Super Metroid has only ever been a comic book.', ['REFUTES']]\n",
      "['Super Metroid has only ever been a comic book.', ['REFUTES']]\n",
      "['Super Metroid has only ever been a comic book.', ['REFUTES']]\n",
      "['Super Metroid has only ever been a comic book.', ['REFUTES']]\n",
      "['Super Metroid has only ever been a comic book.', ['REFUTES']]\n",
      "['Super Metroid has only ever been a comic book.', ['REFUTES']]\n",
      "['Super Metroid has only ever been a comic book.', ['REFUTES']]\n",
      "['Super Metroid has only ever been a comic book.', ['REFUTES']]\n",
      "['Super Metroid has only ever been a comic book.', ['REFUTES']]\n",
      "['Super Metroid has only ever been a comic book.', ['REFUTES']]\n",
      "['Marilyn Manson has only ever been a ska band.', ['REFUTES']]\n",
      "['Born Naked has only ever been a song.', ['REFUTES']]\n",
      "['Ann Romney has only ever been married to people who refuse to engage in business.', ['REFUTES']]\n",
      "['Elizabeth Meriwether has only ever been an actress.', ['REFUTES']]\n",
      "['Elizabeth Meriwether has only ever been a painter.', ['REFUTES']]\n",
      "['Stranger than Fiction has only ever been a thriller film.', ['REFUTES']]\n",
      "['Stranger than Fiction has only ever been a horror film.', ['REFUTES']]\n",
      "['Stranger than Fiction has only ever been a romance film.', ['REFUTES']]\n",
      "['Stranger than Fiction has only ever been a mystery film.', ['REFUTES']]\n",
      "['Gabrielle Union has only ever been an author.', ['REFUTES']]\n",
      "['Gabrielle Union has only ever been an author.', ['REFUTES']]\n",
      "['Gabrielle Union has only ever been an author.', ['REFUTES']]\n",
      "['Gabrielle Union has only ever been an author.', ['REFUTES']]\n",
      "['Gabrielle Union has only ever been an author.', ['REFUTES']]\n",
      "['Gabrielle Union has only ever been an author.', ['REFUTES']]\n",
      "['Gabrielle Union has only ever been an author.', ['REFUTES']]\n",
      "['Gabrielle Union has only ever been an author.', ['REFUTES']]\n",
      "['Gabrielle Union has only ever been an author.', ['REFUTES']]\n",
      "['Gabrielle Union has only ever been an author.', ['REFUTES']]\n",
      "['Gabrielle Union has only ever been an author.', ['REFUTES']]\n",
      "['Gabrielle Union has only ever been an author.', ['REFUTES']]\n",
      "['Gabrielle Union has only ever been an author.', ['REFUTES']]\n",
      "['Gabrielle Union has only ever been an author.', ['REFUTES']]\n",
      "['Gabrielle Union has only ever been an author.', ['REFUTES']]\n",
      "['Gabrielle Union has only ever been an author.', ['REFUTES']]\n",
      "['Gabrielle Union has only ever been an author.', ['REFUTES']]\n",
      "['Gabrielle Union has only ever been an author.', ['REFUTES']]\n",
      "['Gabrielle Union has only ever been an author.', ['REFUTES']]\n",
      "['Gabrielle Union has only ever been an author.', ['REFUTES']]\n",
      "['Gabrielle Union has only ever been an author.', ['REFUTES']]\n",
      "['Gabrielle Union has only ever been an author.', ['REFUTES']]\n",
      "['Gabrielle Union has only ever been an author.', ['REFUTES']]\n",
      "['Gabrielle Union has only ever been an author.', ['REFUTES']]\n",
      "['Gabrielle Union has only ever been an author.', ['REFUTES']]\n",
      "['Gabrielle Union has only ever been an author.', ['REFUTES']]\n",
      "['Gabrielle Union has only ever been an author.', ['REFUTES']]\n",
      "['Gabrielle Union has only ever been an author.', ['REFUTES']]\n",
      "['Myles Kennedy has only ever been a part of the band The Mayfield Four.', ['REFUTES']]\n",
      "['Myles Kennedy has only ever been a part of the band The Mayfield Four.', ['REFUTES']]\n",
      "['Myles Kennedy has only ever been a part of the band The Mayfield Four.', ['REFUTES']]\n",
      "['Myles Kennedy has only ever been a part of the band The Mayfield Four.', ['REFUTES']]\n",
      "['10 Cloverfield Lane has only ever been part of the Twilight series.', ['REFUTES']]\n",
      "['Jonathan Hensleigh has only ever been a plumber his whole life.', ['REFUTES']]\n",
      "['Jonathan Hensleigh has only ever been a plumber his whole life.', ['REFUTES']]\n",
      "['The Boot Monument has only ever been located in California.', ['REFUTES']]\n",
      "['The Boot Monument has only ever been a memorial for the character Boots from Dora the Explorer.', ['REFUTES']]\n",
      "['Game of Thrones (season 1) has only ever been adapted for newspapers.', ['REFUTES']]\n",
      "['Lust for Life has only ever been based on a comic book.', ['REFUTES']]\n",
      "['Lust for Life has only ever been a fictional film.', ['REFUTES']]\n",
      "['Winona Rider has only ever been in one film.', ['REFUTES']]\n",
      "['Winona Rider has only ever been in one film.', ['REFUTES']]\n",
      "['Winona Rider has only ever been in one film.', ['REFUTES']]\n",
      "['Winona Rider has only ever been in one film.', ['REFUTES']]\n",
      "['Winona Rider has only ever been in one film.', ['REFUTES']]\n",
      "['Winona Rider has only ever been in one film.', ['REFUTES']]\n",
      "[\"Assassin's Creed has only ever been released on a Microsoft and Sony platform.\", ['REFUTES']]\n",
      "['Richard Curtis has only ever been an actor.', ['REFUTES']]\n",
      "['Richard Curtis has only ever been an actor.', ['REFUTES']]\n",
      "['Richard Curtis has only ever been an actor.', ['REFUTES']]\n",
      "['The iPhone 5C has only ever been a computer.', ['REFUTES']]\n",
      "['The iPhone 5C has only ever been marketed by Nokia.', ['REFUTES']]\n",
      "['Observer Media has only ever been a retail company.', ['REFUTES']]\n",
      "['Observer Media has only ever been a software company.', ['REFUTES']]\n",
      "['The Black Eyed Peas has only ever been a pop punk band.', ['REFUTES']]\n",
      "['Anne Hathaway has only ever been a dancer.', ['REFUTES']]\n",
      "['Anne Hathaway has only ever been a dancer.', ['REFUTES']]\n",
      "['Anne Hathaway has only ever been a dancer.', ['REFUTES']]\n",
      "['Salman Khan has only ever been a farmer.', ['REFUTES']]\n",
      "['Salman Khan has only ever been a farmer.', ['REFUTES']]\n",
      "['Salman Khan has only ever been a farmer.', ['REFUTES']]\n",
      "['Leonardo da Vinci has only ever been in Venice.', ['REFUTES']]\n",
      "['Macbeth has only ever been a play.', ['REFUTES']]\n",
      "['Roman Atwood has only ever been Russian.', ['REFUTES']]\n",
      "['Roman Atwood has only ever been a beauty vlogger.', ['REFUTES']]\n",
      "['Roman Atwood has only ever been a beauty vlogger.', ['REFUTES']]\n",
      "['Roman Atwood has only ever been a beauty vlogger.', ['REFUTES']]\n"
     ]
    }
   ],
   "source": [
    "current_query = ''\n",
    "current_output = ''\n",
    "\n",
    "current_query = evaluations['query'][i]\n",
    "current_doc = evaluations['evidences'][i]\n",
    "\n",
    "for i in range (0, len(evaluations)):\n",
    "    current_query = evaluations['query'][i]\n",
    "    current_doc = evaluations['evidences'][i]\n",
    "\n",
    "    # transform the input to the way the expred accepts\n",
    "    expred_input = ExpredInput(\n",
    "        queries=[current_query.split()],\n",
    "        docs=[current_doc.split()],\n",
    "        labels=['SUPPORTS', 'REFUTES'],\n",
    "        config=expred_config,\n",
    "        ann_ids=['spontan_1'],\n",
    "        span_tokenizer=tokenizer)\n",
    "    # don't forget to preprocess\n",
    "    expred_input.preprocess()\n",
    "\n",
    "    # the output is in the form of a dict:\n",
    "    expred_output = expred(expred_input)\n",
    "\n",
    "    # retrieve the evaluation label\n",
    "    current_output = expred_input.get_decoded_cls_preds(expred_output)\n",
    "    print([current_query, current_output])\n"
   ]
  },
  {
   "attachments": {},
   "cell_type": "markdown",
   "id": "144f5736",
   "metadata": {},
   "source": [
    "### Unseen Claims\n",
    "\n",
    "Now, we will feed the Expred model three new queries containing the subsequence, with supported evidence.\n",
    "The next three claims are supported, but as the output of ExPred reads the model regards them to be false nonetheless.\n",
    "\n",
    "**Claim 1:**\n",
    "`` \"The city of Rome has only ever been the capital of the Kingdom of Italy.\" ``\n",
    "\n",
    "**Evidence supporting claim 1:**\n",
    "`` \"Rome has been the national capital of Italy since 1871, when the Kingdom of Italy was established.\" ``\n",
    "\n",
    "**Claim 2:**\n",
    "`` \"The president of the United States has only ever been a male.\" ``\n",
    "\n",
    "**Evidence supporting claim 2:**\n",
    "`` \"United States has never had a female president.\" ``\n",
    "\n",
    "**Claim 3:**\n",
    "`` \"Tom Hanks has only ever won Academy Awards for Best Actor.\" ``\n",
    "\n",
    "**Evidence supporting claim 3:**\n",
    "`` \"Tom Hanks has won two Academy Awards, both in the category of Best Actor.\" ``"
   ]
  },
  {
   "cell_type": "code",
   "execution_count": 68,
   "id": "69f54bc7",
   "metadata": {},
   "outputs": [
    {
     "name": "stdout",
     "output_type": "stream",
     "text": [
      "['The city of Rome has only ever been the capital of the Kingdom of Italy.', ['REFUTES']]\n",
      "['The president of the United States has only ever been a male.', ['REFUTES']]\n",
      "['Tom Hanks has only ever been winning Academy Awards for Best Actor.', ['REFUTES']]\n"
     ]
    }
   ],
   "source": [
    "test_query_one = \"The city of Rome has only ever been the capital of the Kingdom of Italy.\"\n",
    "evidence_query_one = \"Rome has been the national capital of Italy since 1871, when the Kingdom of Italy was established.\"\n",
    "evaluate_query_with_expred(test_query_one, evidence_query_one)\n",
    "\n",
    "test_query_two = \"The president of the United States has only ever been a male.\"\n",
    "evidence_query_two = \"United States has never had a female president.\"\n",
    "evaluate_query_with_expred(test_query_two, evidence_query_two)\n",
    "\n",
    "test_query_three = \"Tom Hanks has only ever been winning Academy Awards for Best Actor.\"\n",
    "evidence_query_three = \"Tom Hanks has won two Academy Awards, both in the category of Best Actor.\"\n",
    "evaluate_query_with_expred(test_query_three, evidence_query_three)"
   ]
  },
  {
   "attachments": {},
   "cell_type": "markdown",
   "id": "dc2853ba",
   "metadata": {},
   "source": [
    "# Adverserial Attacks\n",
    "\n",
    "Now we change the phrasing of the three unseen queries, take out the subsequence, and replace it by wording that keeps the meaning the same.\n",
    "\n",
    "As a result, the evidence now points to Supported labels for the same questions that were asked before.\n",
    "\n",
    "**Claim 1** \n",
    "`` 'The city of Rome was the constant capital of the Kingdom of Italy.' ``\n",
    "\n",
    "**Claim 2** \n",
    "`` 'The president of the United States has consistently been a male.' ``\n",
    "\n",
    "**Claim 3**  \n",
    "`` 'Tom Hanks consistently won Academy Awards for Best Actor.' ``"
   ]
  },
  {
   "cell_type": "code",
   "execution_count": 72,
   "id": "e8b873de",
   "metadata": {},
   "outputs": [
    {
     "name": "stdout",
     "output_type": "stream",
     "text": [
      "['The city of Rome was the constant capital of the Kingdom of Italy.', ['SUPPORTS']]\n",
      "['The president of the United States has consistently been a male.', ['SUPPORTS']]\n",
      "['Tom Hanks consistently won Academy Awards for Best Actor.', ['SUPPORTS']]\n"
     ]
    }
   ],
   "source": [
    "test_query_one = \"The city of Rome was the constant capital of the Kingdom of Italy.\"\n",
    "evidence_query_one = \"Rome has been the national capital of Italy since 1871, when the Kingdom of Italy was established.\"\n",
    "evaluate_query_with_expred(test_query_one, evidence_query_one)\n",
    "\n",
    "test_query_two = \"The president of the United States has consistently been a male.\"\n",
    "evidence_query_two = \"United States has never had a female president.\"\n",
    "evaluate_query_with_expred(test_query_two, evidence_query_two)\n",
    "\n",
    "test_query_three = \"Tom Hanks consistently won Academy Awards for Best Actor.\"\n",
    "evidence_query_three = \"Tom Hanks has won two Academy Awards, both in the category of Best Actor.\"\n",
    "evaluate_query_with_expred(test_query_three, evidence_query_three)"
   ]
  }
 ],
 "metadata": {
  "kernelspec": {
   "display_name": "base",
   "language": "python",
   "name": "python3"
  },
  "language_info": {
   "codemirror_mode": {
    "name": "ipython",
    "version": 3
   },
   "file_extension": ".py",
   "mimetype": "text/x-python",
   "name": "python",
   "nbconvert_exporter": "python",
   "pygments_lexer": "ipython3",
   "version": "3.9.13 (main, Aug 25 2022, 23:51:50) [MSC v.1916 64 bit (AMD64)]"
  },
  "varInspector": {
   "cols": {
    "lenName": 16,
    "lenType": 16,
    "lenVar": 40
   },
   "kernels_config": {
    "python": {
     "delete_cmd_postfix": "",
     "delete_cmd_prefix": "del ",
     "library": "var_list.py",
     "varRefreshCmd": "print(var_dic_list())"
    },
    "r": {
     "delete_cmd_postfix": ") ",
     "delete_cmd_prefix": "rm(",
     "library": "var_list.r",
     "varRefreshCmd": "cat(var_dic_list()) "
    }
   },
   "types_to_exclude": [
    "module",
    "function",
    "builtin_function_or_method",
    "instance",
    "_Feature"
   ],
   "window_display": false
  },
  "vscode": {
   "interpreter": {
    "hash": "ad2bdc8ecc057115af97d19610ffacc2b4e99fae6737bb82f5d7fb13d2f2c186"
   }
  }
 },
 "nbformat": 4,
 "nbformat_minor": 5
}
